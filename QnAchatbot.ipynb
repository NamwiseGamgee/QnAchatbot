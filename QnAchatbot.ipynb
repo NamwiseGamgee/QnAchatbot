{
 "cells": [
  {
   "cell_type": "code",
   "execution_count": 1,
   "id": "39cae519",
   "metadata": {},
   "outputs": [],
   "source": [
    "import pickle"
   ]
  },
  {
   "cell_type": "code",
   "execution_count": 2,
   "id": "0a45e380",
   "metadata": {},
   "outputs": [],
   "source": [
    "import numpy as np"
   ]
  },
  {
   "cell_type": "code",
   "execution_count": 3,
   "id": "42efb6b2",
   "metadata": {},
   "outputs": [],
   "source": [
    "with open('F:\\\\NLP intro\\\\course stuff\\\\UPDATED_NLP_COURSE\\\\06-Deep-Learning\\\\train_qa.txt','rb') as f:\n",
    "    train_data = pickle.load(f)"
   ]
  },
  {
   "cell_type": "code",
   "execution_count": 4,
   "id": "f130069e",
   "metadata": {},
   "outputs": [],
   "source": [
    "with open('F:\\\\NLP intro\\\\course stuff\\\\UPDATED_NLP_COURSE\\\\06-Deep-Learning\\\\test_qa.txt','rb') as f:\n",
    "    test_data = pickle.load(f)"
   ]
  },
  {
   "cell_type": "code",
   "execution_count": 5,
   "id": "f8fe7eb6",
   "metadata": {},
   "outputs": [
    {
     "data": {
      "text/plain": [
       "list"
      ]
     },
     "execution_count": 5,
     "metadata": {},
     "output_type": "execute_result"
    }
   ],
   "source": [
    "type(test_data)"
   ]
  },
  {
   "cell_type": "code",
   "execution_count": 6,
   "id": "ca16aad4",
   "metadata": {},
   "outputs": [
    {
     "data": {
      "text/plain": [
       "list"
      ]
     },
     "execution_count": 6,
     "metadata": {},
     "output_type": "execute_result"
    }
   ],
   "source": [
    "type(train_data)"
   ]
  },
  {
   "cell_type": "code",
   "execution_count": 7,
   "id": "ab1deb47",
   "metadata": {},
   "outputs": [
    {
     "data": {
      "text/plain": [
       "10000"
      ]
     },
     "execution_count": 7,
     "metadata": {},
     "output_type": "execute_result"
    }
   ],
   "source": [
    "len(train_data)"
   ]
  },
  {
   "cell_type": "code",
   "execution_count": 8,
   "id": "6d262f9d",
   "metadata": {},
   "outputs": [
    {
     "data": {
      "text/plain": [
       "1000"
      ]
     },
     "execution_count": 8,
     "metadata": {},
     "output_type": "execute_result"
    }
   ],
   "source": [
    "len(test_data)"
   ]
  },
  {
   "cell_type": "code",
   "execution_count": 9,
   "id": "e9bc5ac3",
   "metadata": {},
   "outputs": [
    {
     "data": {
      "text/plain": [
       "'Mary moved to the bathroom . Sandra journeyed to the bedroom .'"
      ]
     },
     "execution_count": 9,
     "metadata": {},
     "output_type": "execute_result"
    }
   ],
   "source": [
    "' '.join(train_data[0][0]) #previewing the story"
   ]
  },
  {
   "cell_type": "code",
   "execution_count": 10,
   "id": "5e42832d",
   "metadata": {},
   "outputs": [
    {
     "data": {
      "text/plain": [
       "'Is Sandra in the hallway ?'"
      ]
     },
     "execution_count": 10,
     "metadata": {},
     "output_type": "execute_result"
    }
   ],
   "source": [
    "' '.join(train_data[0][1]) #previewing the question"
   ]
  },
  {
   "cell_type": "code",
   "execution_count": 11,
   "id": "f127c5d7",
   "metadata": {},
   "outputs": [
    {
     "data": {
      "text/plain": [
       "'no'"
      ]
     },
     "execution_count": 11,
     "metadata": {},
     "output_type": "execute_result"
    }
   ],
   "source": [
    "(train_data[0][2]) #previewing the answer"
   ]
  },
  {
   "cell_type": "code",
   "execution_count": 12,
   "id": "5c9ddf8b",
   "metadata": {},
   "outputs": [],
   "source": [
    "#creating a vocabulary for all train and test data\n",
    "\n",
    "all_data = test_data + train_data"
   ]
  },
  {
   "cell_type": "code",
   "execution_count": 13,
   "id": "588c2ada",
   "metadata": {},
   "outputs": [
    {
     "data": {
      "text/plain": [
       "{'.',\n",
       " 'Mary',\n",
       " 'Sandra',\n",
       " 'bathroom',\n",
       " 'bedroom',\n",
       " 'journeyed',\n",
       " 'moved',\n",
       " 'the',\n",
       " 'to'}"
      ]
     },
     "execution_count": 13,
     "metadata": {},
     "output_type": "execute_result"
    }
   ],
   "source": [
    "set(train_data[0][0])"
   ]
  },
  {
   "cell_type": "code",
   "execution_count": 14,
   "id": "f5d53e70",
   "metadata": {},
   "outputs": [],
   "source": [
    "vocab = set()\n",
    "\n",
    "for story,question,answer in all_data:\n",
    "    vocab = vocab.union(set(story))\n",
    "    vocab = vocab.union(set(question))"
   ]
  },
  {
   "cell_type": "code",
   "execution_count": 15,
   "id": "566d723d",
   "metadata": {},
   "outputs": [],
   "source": [
    "vocab.add('no')"
   ]
  },
  {
   "cell_type": "code",
   "execution_count": 16,
   "id": "77c0366f",
   "metadata": {},
   "outputs": [],
   "source": [
    "vocab.add('yes')"
   ]
  },
  {
   "cell_type": "code",
   "execution_count": 17,
   "id": "e77ddc6d",
   "metadata": {},
   "outputs": [
    {
     "data": {
      "text/plain": [
       "{'.',\n",
       " '?',\n",
       " 'Daniel',\n",
       " 'Is',\n",
       " 'John',\n",
       " 'Mary',\n",
       " 'Sandra',\n",
       " 'apple',\n",
       " 'back',\n",
       " 'bathroom',\n",
       " 'bedroom',\n",
       " 'discarded',\n",
       " 'down',\n",
       " 'dropped',\n",
       " 'football',\n",
       " 'garden',\n",
       " 'got',\n",
       " 'grabbed',\n",
       " 'hallway',\n",
       " 'in',\n",
       " 'journeyed',\n",
       " 'kitchen',\n",
       " 'left',\n",
       " 'milk',\n",
       " 'moved',\n",
       " 'no',\n",
       " 'office',\n",
       " 'picked',\n",
       " 'put',\n",
       " 'the',\n",
       " 'there',\n",
       " 'to',\n",
       " 'took',\n",
       " 'travelled',\n",
       " 'up',\n",
       " 'went',\n",
       " 'yes'}"
      ]
     },
     "execution_count": 17,
     "metadata": {},
     "output_type": "execute_result"
    }
   ],
   "source": [
    "vocab #all the unique words in vocab"
   ]
  },
  {
   "cell_type": "code",
   "execution_count": 18,
   "id": "840eafc9",
   "metadata": {},
   "outputs": [],
   "source": [
    "vocab_len = len(vocab) + 1"
   ]
  },
  {
   "cell_type": "code",
   "execution_count": 19,
   "id": "cfbca14a",
   "metadata": {},
   "outputs": [
    {
     "data": {
      "text/plain": [
       "38"
      ]
     },
     "execution_count": 19,
     "metadata": {},
     "output_type": "execute_result"
    }
   ],
   "source": [
    "vocab_len # 37 unique words. +1 for the keras placeholder"
   ]
  },
  {
   "cell_type": "code",
   "execution_count": 20,
   "id": "cc1969f0",
   "metadata": {},
   "outputs": [],
   "source": [
    "# Longest story\n",
    "\n",
    "all_story_lens = [len(data[0]) for data in all_data]"
   ]
  },
  {
   "cell_type": "code",
   "execution_count": 21,
   "id": "03a41353",
   "metadata": {},
   "outputs": [],
   "source": [
    "max_story_len = max(all_story_lens)"
   ]
  },
  {
   "cell_type": "code",
   "execution_count": 22,
   "id": "dd24f1c2",
   "metadata": {},
   "outputs": [],
   "source": [
    "all_ques_lens = [len(data[1]) for data in all_data]"
   ]
  },
  {
   "cell_type": "code",
   "execution_count": 23,
   "id": "39355366",
   "metadata": {},
   "outputs": [],
   "source": [
    "max_ques_len = max(all_ques_lens)"
   ]
  },
  {
   "cell_type": "code",
   "execution_count": 24,
   "id": "41990705",
   "metadata": {},
   "outputs": [
    {
     "data": {
      "text/plain": [
       "6"
      ]
     },
     "execution_count": 24,
     "metadata": {},
     "output_type": "execute_result"
    }
   ],
   "source": [
    "max_ques_len"
   ]
  },
  {
   "cell_type": "code",
   "execution_count": 25,
   "id": "0b731c73",
   "metadata": {},
   "outputs": [
    {
     "name": "stdout",
     "output_type": "stream",
     "text": [
      "WARNING:tensorflow:From C:\\Users\\Nobin\\anaconda3\\lib\\site-packages\\keras\\src\\losses.py:2976: The name tf.losses.sparse_softmax_cross_entropy is deprecated. Please use tf.compat.v1.losses.sparse_softmax_cross_entropy instead.\n",
      "\n"
     ]
    }
   ],
   "source": [
    "from keras.preprocessing.sequence import pad_sequences\n",
    "from keras.preprocessing.text import Tokenizer\n"
   ]
  },
  {
   "cell_type": "code",
   "execution_count": 26,
   "id": "9ab57ad2",
   "metadata": {},
   "outputs": [],
   "source": [
    "# creating an int encoding for the sequences of words\n",
    "tokenizer = Tokenizer(filters=[])\n",
    "tokenizer.fit_on_texts(vocab)"
   ]
  },
  {
   "cell_type": "code",
   "execution_count": 27,
   "id": "7c018014",
   "metadata": {},
   "outputs": [
    {
     "data": {
      "text/plain": [
       "{'journeyed': 1,\n",
       " 'moved': 2,\n",
       " 'sandra': 3,\n",
       " '.': 4,\n",
       " 'office': 5,\n",
       " 'bathroom': 6,\n",
       " 'discarded': 7,\n",
       " 'kitchen': 8,\n",
       " 'left': 9,\n",
       " 'got': 10,\n",
       " 'picked': 11,\n",
       " 'down': 12,\n",
       " 'the': 13,\n",
       " 'up': 14,\n",
       " 'travelled': 15,\n",
       " 'no': 16,\n",
       " 'john': 17,\n",
       " 'hallway': 18,\n",
       " 'back': 19,\n",
       " 'took': 20,\n",
       " '?': 21,\n",
       " 'in': 22,\n",
       " 'mary': 23,\n",
       " 'daniel': 24,\n",
       " 'is': 25,\n",
       " 'put': 26,\n",
       " 'there': 27,\n",
       " 'football': 28,\n",
       " 'bedroom': 29,\n",
       " 'to': 30,\n",
       " 'apple': 31,\n",
       " 'milk': 32,\n",
       " 'dropped': 33,\n",
       " 'garden': 34,\n",
       " 'yes': 35,\n",
       " 'went': 36,\n",
       " 'grabbed': 37}"
      ]
     },
     "execution_count": 27,
     "metadata": {},
     "output_type": "execute_result"
    }
   ],
   "source": [
    "tokenizer.word_index"
   ]
  },
  {
   "cell_type": "code",
   "execution_count": 28,
   "id": "706438df",
   "metadata": {},
   "outputs": [],
   "source": [
    "#tokenization for story, ques and answers\n",
    "\n",
    "train_story_text = []\n",
    "train_question_text = []\n",
    "train_answers = []"
   ]
  },
  {
   "cell_type": "code",
   "execution_count": 29,
   "id": "d9936ca9",
   "metadata": {},
   "outputs": [],
   "source": [
    "for story,question,answer in train_data:\n",
    "    train_story_text.append(story)\n",
    "    train_question_text.append(question)\n",
    "    train_answers.append(answer)"
   ]
  },
  {
   "cell_type": "code",
   "execution_count": 30,
   "id": "28ac053f",
   "metadata": {},
   "outputs": [],
   "source": [
    "# train_story_text"
   ]
  },
  {
   "cell_type": "code",
   "execution_count": 31,
   "id": "83b269a1",
   "metadata": {},
   "outputs": [],
   "source": [
    "# turning the texts to numbers with texts_to_sequences\n",
    "\n",
    "train_story_seq = tokenizer.texts_to_sequences(train_story_text)"
   ]
  },
  {
   "cell_type": "code",
   "execution_count": 32,
   "id": "dbeed0ca",
   "metadata": {},
   "outputs": [],
   "source": [
    "#vectorizing stories, questions and answers"
   ]
  },
  {
   "cell_type": "code",
   "execution_count": 33,
   "id": "15a8a9ad",
   "metadata": {},
   "outputs": [],
   "source": [
    "def vectorize_stories(data,word_index=tokenizer.word_index,max_story_len=max_story_len,max_question_len=max_ques_len):\n",
    "    \n",
    "    #Stories = X\n",
    "    X = []\n",
    "    \n",
    "    #questions = Xq\n",
    "    Xq = []\n",
    "    \n",
    "    #Y correct answer (yes/no)\n",
    "    Y = []\n",
    "    \n",
    "    for story,query,answer in data:\n",
    "        \n",
    "        #for each story\n",
    "        #[5, 12,....]\n",
    "        \n",
    "        x = [word_index[word.lower()] for word in story]\n",
    "        \n",
    "        xq = [word_index[word.lower()] for word in query]\n",
    "        \n",
    "        y = np.zeros(len(word_index)+1)\n",
    "        \n",
    "        y[word_index[answer]] = 1\n",
    "        \n",
    "        X.append(x)\n",
    "        Xq.append(xq)\n",
    "        Y.append(y)\n",
    "        \n",
    "    return (pad_sequences(X,maxlen=max_story_len),pad_sequences(Xq,maxlen=max_ques_len),np.array(Y))"
   ]
  },
  {
   "cell_type": "code",
   "execution_count": 34,
   "id": "60d78f96",
   "metadata": {},
   "outputs": [],
   "source": [
    "inputs_train, queries_train, answers_train = vectorize_stories(train_data)"
   ]
  },
  {
   "cell_type": "code",
   "execution_count": 35,
   "id": "1b035d75",
   "metadata": {},
   "outputs": [],
   "source": [
    "inputs_test, queries_test, answers_test = vectorize_stories(test_data)"
   ]
  },
  {
   "cell_type": "code",
   "execution_count": 36,
   "id": "b3592be0",
   "metadata": {},
   "outputs": [
    {
     "data": {
      "text/plain": [
       "array([[ 0,  0,  0, ..., 13, 29,  4],\n",
       "       [ 0,  0,  0, ..., 13, 34,  4],\n",
       "       [ 0,  0,  0, ..., 13, 34,  4],\n",
       "       ...,\n",
       "       [ 0,  0,  0, ..., 13, 31,  4],\n",
       "       [ 0,  0,  0, ..., 13, 34,  4],\n",
       "       [ 0,  0,  0, ..., 31, 27,  4]])"
      ]
     },
     "execution_count": 36,
     "metadata": {},
     "output_type": "execute_result"
    }
   ],
   "source": [
    "inputs_test"
   ]
  },
  {
   "cell_type": "code",
   "execution_count": 37,
   "id": "5f2524e4",
   "metadata": {},
   "outputs": [
    {
     "data": {
      "text/plain": [
       "array([[0., 0., 0., ..., 0., 0., 0.],\n",
       "       [0., 0., 0., ..., 0., 0., 0.],\n",
       "       [0., 0., 0., ..., 1., 0., 0.],\n",
       "       ...,\n",
       "       [0., 0., 0., ..., 0., 0., 0.],\n",
       "       [0., 0., 0., ..., 1., 0., 0.],\n",
       "       [0., 0., 0., ..., 1., 0., 0.]])"
      ]
     },
     "execution_count": 37,
     "metadata": {},
     "output_type": "execute_result"
    }
   ],
   "source": [
    "answers_test"
   ]
  },
  {
   "cell_type": "code",
   "execution_count": 38,
   "id": "28d3faf5",
   "metadata": {},
   "outputs": [
    {
     "data": {
      "text/plain": [
       "35"
      ]
     },
     "execution_count": 38,
     "metadata": {},
     "output_type": "execute_result"
    }
   ],
   "source": [
    "tokenizer.word_index['yes']"
   ]
  },
  {
   "cell_type": "code",
   "execution_count": 39,
   "id": "faffd6aa",
   "metadata": {},
   "outputs": [
    {
     "data": {
      "text/plain": [
       "16"
      ]
     },
     "execution_count": 39,
     "metadata": {},
     "output_type": "execute_result"
    }
   ],
   "source": [
    "tokenizer.word_index['no']"
   ]
  },
  {
   "cell_type": "code",
   "execution_count": 40,
   "id": "c5556edc",
   "metadata": {},
   "outputs": [
    {
     "data": {
      "text/plain": [
       "array([  0.,   0.,   0.,   0.,   0.,   0.,   0.,   0.,   0.,   0.,   0.,\n",
       "         0.,   0.,   0.,   0.,   0., 503.,   0.,   0.,   0.,   0.,   0.,\n",
       "         0.,   0.,   0.,   0.,   0.,   0.,   0.,   0.,   0.,   0.,   0.,\n",
       "         0.,   0., 497.,   0.,   0.])"
      ]
     },
     "execution_count": 40,
     "metadata": {},
     "output_type": "execute_result"
    }
   ],
   "source": [
    "sum(answers_test) # 497 'yes' on index 1 and 503 'no' on index 20"
   ]
  },
  {
   "cell_type": "code",
   "execution_count": 41,
   "id": "e38e5163",
   "metadata": {},
   "outputs": [],
   "source": [
    "from keras.models import Sequential,Model"
   ]
  },
  {
   "cell_type": "code",
   "execution_count": 42,
   "id": "fb5225b9",
   "metadata": {},
   "outputs": [],
   "source": [
    "from keras.layers import Embedding"
   ]
  },
  {
   "cell_type": "code",
   "execution_count": 43,
   "id": "5a3da806",
   "metadata": {},
   "outputs": [],
   "source": [
    "from keras.layers import Input,Activation,Dense,Permute,Dropout,add,dot,concatenate,LSTM"
   ]
  },
  {
   "cell_type": "code",
   "execution_count": 44,
   "id": "d657ab8e",
   "metadata": {},
   "outputs": [
    {
     "name": "stdout",
     "output_type": "stream",
     "text": [
      "WARNING:tensorflow:From C:\\Users\\Nobin\\anaconda3\\lib\\site-packages\\keras\\src\\backend.py:1398: The name tf.executing_eagerly_outside_functions is deprecated. Please use tf.compat.v1.executing_eagerly_outside_functions instead.\n",
      "\n"
     ]
    }
   ],
   "source": [
    "# placeholder shape = (max_story_len,batch_size)\n",
    "input_sequence = Input((max_story_len,))\n",
    "question = Input((max_ques_len,))"
   ]
  },
  {
   "cell_type": "code",
   "execution_count": 45,
   "id": "e2a27895",
   "metadata": {},
   "outputs": [],
   "source": [
    "#vocab_len\n",
    "vocab_size = len(vocab) + 1"
   ]
  },
  {
   "cell_type": "code",
   "execution_count": 46,
   "id": "a424c7d9",
   "metadata": {},
   "outputs": [],
   "source": [
    "# input encoder m\n",
    "input_encoder_m = Sequential()\n",
    "input_encoder_m.add(Embedding(input_dim=vocab_size,output_dim=64))\n",
    "input_encoder_m.add(Dropout(0.3))\n",
    "\n",
    "# (samples,story_maxlen,embedding_dim)"
   ]
  },
  {
   "cell_type": "code",
   "execution_count": 47,
   "id": "3940ba3e",
   "metadata": {},
   "outputs": [],
   "source": [
    "# input encoder c\n",
    "input_encoder_c = Sequential()\n",
    "input_encoder_c.add(Embedding(input_dim=vocab_size,output_dim=max_ques_len))\n",
    "input_encoder_c.add(Dropout(0.3))\n",
    "\n",
    "# (samples,story_maxlen,max_ques_len)"
   ]
  },
  {
   "cell_type": "code",
   "execution_count": 48,
   "id": "f2a2541e",
   "metadata": {},
   "outputs": [],
   "source": [
    "# question encoder \n",
    "question_encoder = Sequential()\n",
    "question_encoder.add(Embedding(input_dim=vocab_size,output_dim=64,input_length=max_ques_len))\n",
    "question_encoder.add(Dropout(0.3))\n",
    "\n",
    "# (samples,question_maxlen,embedding_dim)"
   ]
  },
  {
   "cell_type": "code",
   "execution_count": 49,
   "id": "9c8557e9",
   "metadata": {},
   "outputs": [],
   "source": [
    "# encoded <---- encoder(input)\n",
    "\n",
    "input_encoded_m = input_encoder_m(input_sequence)\n",
    "input_encoded_c = input_encoder_c(input_sequence)\n",
    "question_encoded = question_encoder(question)"
   ]
  },
  {
   "cell_type": "code",
   "execution_count": 50,
   "id": "23b12448",
   "metadata": {},
   "outputs": [],
   "source": [
    "# using dot product to compute the match btn the 1st input vec seq and the ques\n"
   ]
  },
  {
   "cell_type": "code",
   "execution_count": 51,
   "id": "6faa434c",
   "metadata": {},
   "outputs": [],
   "source": [
    "match = dot([input_encoded_m,question_encoded],axes=(2,2))\n",
    "match = Activation('softmax')(match)"
   ]
  },
  {
   "cell_type": "code",
   "execution_count": 52,
   "id": "db9702cd",
   "metadata": {},
   "outputs": [],
   "source": [
    "response = add([match, input_encoded_c])\n",
    "response = Permute((2,1))(response)"
   ]
  },
  {
   "cell_type": "code",
   "execution_count": 53,
   "id": "b50d39ea",
   "metadata": {},
   "outputs": [],
   "source": [
    "answer = concatenate([response,question_encoded])"
   ]
  },
  {
   "cell_type": "code",
   "execution_count": 54,
   "id": "d3228a70",
   "metadata": {},
   "outputs": [
    {
     "data": {
      "text/plain": [
       "<KerasTensor: shape=(None, 6, 220) dtype=float32 (created by layer 'concatenate')>"
      ]
     },
     "execution_count": 54,
     "metadata": {},
     "output_type": "execute_result"
    }
   ],
   "source": [
    "answer"
   ]
  },
  {
   "cell_type": "code",
   "execution_count": 55,
   "id": "a3030a1d",
   "metadata": {},
   "outputs": [],
   "source": [
    "answer = LSTM(32)(answer)"
   ]
  },
  {
   "cell_type": "code",
   "execution_count": 56,
   "id": "21045f3f",
   "metadata": {},
   "outputs": [],
   "source": [
    "answer = Dropout(0.5)(answer)\n",
    "answer = Dense(vocab_size)(answer) # (samples, vocab_size) yes/no"
   ]
  },
  {
   "cell_type": "code",
   "execution_count": 57,
   "id": "35585621",
   "metadata": {},
   "outputs": [],
   "source": [
    "answer = Activation('softmax')(answer)"
   ]
  },
  {
   "cell_type": "code",
   "execution_count": 58,
   "id": "3345eb78",
   "metadata": {},
   "outputs": [],
   "source": [
    "model = Model([input_sequence,question],answer)"
   ]
  },
  {
   "cell_type": "code",
   "execution_count": 59,
   "id": "48fed4de",
   "metadata": {},
   "outputs": [
    {
     "name": "stdout",
     "output_type": "stream",
     "text": [
      "WARNING:tensorflow:From C:\\Users\\Nobin\\anaconda3\\lib\\site-packages\\keras\\src\\optimizers\\__init__.py:309: The name tf.train.Optimizer is deprecated. Please use tf.compat.v1.train.Optimizer instead.\n",
      "\n"
     ]
    }
   ],
   "source": [
    "model.compile(optimizer='rmsprop',loss='categorical_crossentropy',metrics=['accuracy'])"
   ]
  },
  {
   "cell_type": "code",
   "execution_count": 60,
   "id": "c052ea13",
   "metadata": {},
   "outputs": [
    {
     "name": "stdout",
     "output_type": "stream",
     "text": [
      "Model: \"model\"\n",
      "__________________________________________________________________________________________________\n",
      " Layer (type)                Output Shape                 Param #   Connected to                  \n",
      "==================================================================================================\n",
      " input_1 (InputLayer)        [(None, 156)]                0         []                            \n",
      "                                                                                                  \n",
      " input_2 (InputLayer)        [(None, 6)]                  0         []                            \n",
      "                                                                                                  \n",
      " sequential (Sequential)     (None, None, 64)             2432      ['input_1[0][0]']             \n",
      "                                                                                                  \n",
      " sequential_2 (Sequential)   (None, 6, 64)                2432      ['input_2[0][0]']             \n",
      "                                                                                                  \n",
      " dot (Dot)                   (None, 156, 6)               0         ['sequential[0][0]',          \n",
      "                                                                     'sequential_2[0][0]']        \n",
      "                                                                                                  \n",
      " activation (Activation)     (None, 156, 6)               0         ['dot[0][0]']                 \n",
      "                                                                                                  \n",
      " sequential_1 (Sequential)   (None, None, 6)              228       ['input_1[0][0]']             \n",
      "                                                                                                  \n",
      " add (Add)                   (None, 156, 6)               0         ['activation[0][0]',          \n",
      "                                                                     'sequential_1[0][0]']        \n",
      "                                                                                                  \n",
      " permute (Permute)           (None, 6, 156)               0         ['add[0][0]']                 \n",
      "                                                                                                  \n",
      " concatenate (Concatenate)   (None, 6, 220)               0         ['permute[0][0]',             \n",
      "                                                                     'sequential_2[0][0]']        \n",
      "                                                                                                  \n",
      " lstm (LSTM)                 (None, 32)                   32384     ['concatenate[0][0]']         \n",
      "                                                                                                  \n",
      " dropout_3 (Dropout)         (None, 32)                   0         ['lstm[0][0]']                \n",
      "                                                                                                  \n",
      " dense (Dense)               (None, 38)                   1254      ['dropout_3[0][0]']           \n",
      "                                                                                                  \n",
      " activation_1 (Activation)   (None, 38)                   0         ['dense[0][0]']               \n",
      "                                                                                                  \n",
      "==================================================================================================\n",
      "Total params: 38730 (151.29 KB)\n",
      "Trainable params: 38730 (151.29 KB)\n",
      "Non-trainable params: 0 (0.00 Byte)\n",
      "__________________________________________________________________________________________________\n"
     ]
    }
   ],
   "source": [
    "model.summary()"
   ]
  },
  {
   "cell_type": "code",
   "execution_count": 61,
   "id": "ca148cee",
   "metadata": {},
   "outputs": [
    {
     "name": "stdout",
     "output_type": "stream",
     "text": [
      "Epoch 1/100\n",
      "WARNING:tensorflow:From C:\\Users\\Nobin\\anaconda3\\lib\\site-packages\\keras\\src\\utils\\tf_utils.py:492: The name tf.ragged.RaggedTensorValue is deprecated. Please use tf.compat.v1.ragged.RaggedTensorValue instead.\n",
      "\n",
      "WARNING:tensorflow:From C:\\Users\\Nobin\\anaconda3\\lib\\site-packages\\keras\\src\\engine\\base_layer_utils.py:384: The name tf.executing_eagerly_outside_functions is deprecated. Please use tf.compat.v1.executing_eagerly_outside_functions instead.\n",
      "\n",
      "313/313 [==============================] - 5s 9ms/step - loss: 0.8706 - accuracy: 0.4962 - val_loss: 0.6965 - val_accuracy: 0.4970\n",
      "Epoch 2/100\n",
      "313/313 [==============================] - 2s 7ms/step - loss: 0.7023 - accuracy: 0.4896 - val_loss: 0.6934 - val_accuracy: 0.4990\n",
      "Epoch 3/100\n",
      "313/313 [==============================] - 2s 7ms/step - loss: 0.6977 - accuracy: 0.5011 - val_loss: 0.6935 - val_accuracy: 0.4970\n",
      "Epoch 4/100\n",
      "313/313 [==============================] - 2s 7ms/step - loss: 0.6961 - accuracy: 0.5008 - val_loss: 0.6932 - val_accuracy: 0.5030\n",
      "Epoch 5/100\n",
      "313/313 [==============================] - 2s 7ms/step - loss: 0.6964 - accuracy: 0.4989 - val_loss: 0.6932 - val_accuracy: 0.4970\n",
      "Epoch 6/100\n",
      "313/313 [==============================] - 2s 7ms/step - loss: 0.6953 - accuracy: 0.5018 - val_loss: 0.6933 - val_accuracy: 0.4970\n",
      "Epoch 7/100\n",
      "313/313 [==============================] - 2s 7ms/step - loss: 0.6957 - accuracy: 0.4951 - val_loss: 0.6932 - val_accuracy: 0.5030\n",
      "Epoch 8/100\n",
      "313/313 [==============================] - 2s 7ms/step - loss: 0.6948 - accuracy: 0.5062 - val_loss: 0.6945 - val_accuracy: 0.4970\n",
      "Epoch 9/100\n",
      "313/313 [==============================] - 2s 7ms/step - loss: 0.6948 - accuracy: 0.5049 - val_loss: 0.6977 - val_accuracy: 0.4970\n",
      "Epoch 10/100\n",
      "313/313 [==============================] - 2s 7ms/step - loss: 0.6953 - accuracy: 0.4992 - val_loss: 0.6942 - val_accuracy: 0.4970\n",
      "Epoch 11/100\n",
      "313/313 [==============================] - 2s 7ms/step - loss: 0.6951 - accuracy: 0.5005 - val_loss: 0.6943 - val_accuracy: 0.4970\n",
      "Epoch 12/100\n",
      "313/313 [==============================] - 2s 7ms/step - loss: 0.6955 - accuracy: 0.4998 - val_loss: 0.6931 - val_accuracy: 0.5030\n",
      "Epoch 13/100\n",
      "313/313 [==============================] - 2s 8ms/step - loss: 0.6955 - accuracy: 0.4944 - val_loss: 0.6932 - val_accuracy: 0.5030\n",
      "Epoch 14/100\n",
      "313/313 [==============================] - 3s 8ms/step - loss: 0.6953 - accuracy: 0.4911 - val_loss: 0.6936 - val_accuracy: 0.4970\n",
      "Epoch 15/100\n",
      "313/313 [==============================] - 2s 8ms/step - loss: 0.6951 - accuracy: 0.5001 - val_loss: 0.6932 - val_accuracy: 0.5030\n",
      "Epoch 16/100\n",
      "313/313 [==============================] - 2s 8ms/step - loss: 0.6950 - accuracy: 0.5083 - val_loss: 0.6932 - val_accuracy: 0.5030\n",
      "Epoch 17/100\n",
      "313/313 [==============================] - 2s 7ms/step - loss: 0.6953 - accuracy: 0.4955 - val_loss: 0.6938 - val_accuracy: 0.4970\n",
      "Epoch 18/100\n",
      "313/313 [==============================] - 2s 7ms/step - loss: 0.6950 - accuracy: 0.4992 - val_loss: 0.6931 - val_accuracy: 0.5030\n",
      "Epoch 19/100\n",
      "313/313 [==============================] - 2s 6ms/step - loss: 0.6947 - accuracy: 0.5079 - val_loss: 0.6933 - val_accuracy: 0.4970\n",
      "Epoch 20/100\n",
      "313/313 [==============================] - 2s 7ms/step - loss: 0.6950 - accuracy: 0.5035 - val_loss: 0.6952 - val_accuracy: 0.5030\n",
      "Epoch 21/100\n",
      "313/313 [==============================] - 2s 6ms/step - loss: 0.6954 - accuracy: 0.4947 - val_loss: 0.6937 - val_accuracy: 0.4970\n",
      "Epoch 22/100\n",
      "313/313 [==============================] - 2s 6ms/step - loss: 0.6946 - accuracy: 0.5011 - val_loss: 0.6957 - val_accuracy: 0.4970\n",
      "Epoch 23/100\n",
      "313/313 [==============================] - 2s 7ms/step - loss: 0.6948 - accuracy: 0.5007 - val_loss: 0.6934 - val_accuracy: 0.5030\n",
      "Epoch 24/100\n",
      "313/313 [==============================] - 3s 8ms/step - loss: 0.6951 - accuracy: 0.5028 - val_loss: 0.6934 - val_accuracy: 0.4970\n",
      "Epoch 25/100\n",
      "313/313 [==============================] - 2s 8ms/step - loss: 0.6952 - accuracy: 0.5013 - val_loss: 0.6931 - val_accuracy: 0.5030\n",
      "Epoch 26/100\n",
      "313/313 [==============================] - 2s 7ms/step - loss: 0.6945 - accuracy: 0.4991 - val_loss: 0.6933 - val_accuracy: 0.4970\n",
      "Epoch 27/100\n",
      "313/313 [==============================] - 2s 7ms/step - loss: 0.6950 - accuracy: 0.4997 - val_loss: 0.6943 - val_accuracy: 0.5030\n",
      "Epoch 28/100\n",
      "313/313 [==============================] - 2s 7ms/step - loss: 0.6951 - accuracy: 0.4966 - val_loss: 0.6944 - val_accuracy: 0.4970\n",
      "Epoch 29/100\n",
      "313/313 [==============================] - 2s 7ms/step - loss: 0.6944 - accuracy: 0.5061 - val_loss: 0.6974 - val_accuracy: 0.4970\n",
      "Epoch 30/100\n",
      "313/313 [==============================] - 3s 8ms/step - loss: 0.6951 - accuracy: 0.4976 - val_loss: 0.6932 - val_accuracy: 0.5030\n",
      "Epoch 31/100\n",
      "313/313 [==============================] - 2s 8ms/step - loss: 0.6954 - accuracy: 0.4989 - val_loss: 0.6942 - val_accuracy: 0.4970\n",
      "Epoch 32/100\n",
      "313/313 [==============================] - 2s 7ms/step - loss: 0.6949 - accuracy: 0.5003 - val_loss: 0.6932 - val_accuracy: 0.5030\n",
      "Epoch 33/100\n",
      "313/313 [==============================] - 2s 7ms/step - loss: 0.6951 - accuracy: 0.4876 - val_loss: 0.6938 - val_accuracy: 0.4970\n",
      "Epoch 34/100\n",
      "313/313 [==============================] - 2s 7ms/step - loss: 0.6949 - accuracy: 0.4963 - val_loss: 0.6931 - val_accuracy: 0.5030\n",
      "Epoch 35/100\n",
      "313/313 [==============================] - 2s 7ms/step - loss: 0.6947 - accuracy: 0.4909 - val_loss: 0.6932 - val_accuracy: 0.5030\n",
      "Epoch 36/100\n",
      "313/313 [==============================] - 2s 8ms/step - loss: 0.6952 - accuracy: 0.4971 - val_loss: 0.6932 - val_accuracy: 0.5030\n",
      "Epoch 37/100\n",
      "313/313 [==============================] - 3s 9ms/step - loss: 0.6950 - accuracy: 0.4985 - val_loss: 0.6934 - val_accuracy: 0.5030\n",
      "Epoch 38/100\n",
      "313/313 [==============================] - 2s 8ms/step - loss: 0.6946 - accuracy: 0.4992 - val_loss: 0.6939 - val_accuracy: 0.4970\n",
      "Epoch 39/100\n",
      "313/313 [==============================] - 3s 8ms/step - loss: 0.6953 - accuracy: 0.4902 - val_loss: 0.6932 - val_accuracy: 0.4990\n",
      "Epoch 40/100\n",
      "313/313 [==============================] - 2s 8ms/step - loss: 0.6947 - accuracy: 0.4988 - val_loss: 0.6931 - val_accuracy: 0.5030\n",
      "Epoch 41/100\n",
      "313/313 [==============================] - 3s 9ms/step - loss: 0.6946 - accuracy: 0.5004 - val_loss: 0.6949 - val_accuracy: 0.4970\n",
      "Epoch 42/100\n",
      "313/313 [==============================] - 4s 12ms/step - loss: 0.6954 - accuracy: 0.4937 - val_loss: 0.6936 - val_accuracy: 0.4970\n",
      "Epoch 43/100\n",
      "313/313 [==============================] - 3s 10ms/step - loss: 0.6949 - accuracy: 0.5025 - val_loss: 0.6933 - val_accuracy: 0.4970\n",
      "Epoch 44/100\n",
      "313/313 [==============================] - 3s 8ms/step - loss: 0.6944 - accuracy: 0.4989 - val_loss: 0.6935 - val_accuracy: 0.4970\n",
      "Epoch 45/100\n",
      "313/313 [==============================] - 2s 7ms/step - loss: 0.6953 - accuracy: 0.4908 - val_loss: 0.6938 - val_accuracy: 0.4970\n",
      "Epoch 46/100\n",
      "313/313 [==============================] - 2s 7ms/step - loss: 0.6946 - accuracy: 0.5000 - val_loss: 0.6938 - val_accuracy: 0.4970\n",
      "Epoch 47/100\n",
      "313/313 [==============================] - 2s 7ms/step - loss: 0.6946 - accuracy: 0.4999 - val_loss: 0.6940 - val_accuracy: 0.4970\n",
      "Epoch 48/100\n",
      "313/313 [==============================] - 2s 7ms/step - loss: 0.6950 - accuracy: 0.4976 - val_loss: 0.6949 - val_accuracy: 0.5030\n",
      "Epoch 49/100\n",
      "313/313 [==============================] - 2s 7ms/step - loss: 0.6950 - accuracy: 0.4951 - val_loss: 0.6933 - val_accuracy: 0.5010\n",
      "Epoch 50/100\n",
      "313/313 [==============================] - 2s 7ms/step - loss: 0.6948 - accuracy: 0.4958 - val_loss: 0.6934 - val_accuracy: 0.5030\n",
      "Epoch 51/100\n",
      "313/313 [==============================] - 2s 7ms/step - loss: 0.6948 - accuracy: 0.4949 - val_loss: 0.6933 - val_accuracy: 0.5030\n",
      "Epoch 52/100\n",
      "313/313 [==============================] - 2s 7ms/step - loss: 0.6942 - accuracy: 0.5050 - val_loss: 0.6956 - val_accuracy: 0.4970\n",
      "Epoch 53/100\n",
      "313/313 [==============================] - 2s 7ms/step - loss: 0.6950 - accuracy: 0.5052 - val_loss: 0.6932 - val_accuracy: 0.4970\n",
      "Epoch 54/100\n",
      "313/313 [==============================] - 2s 7ms/step - loss: 0.6943 - accuracy: 0.5063 - val_loss: 0.6936 - val_accuracy: 0.4790\n"
     ]
    },
    {
     "name": "stdout",
     "output_type": "stream",
     "text": [
      "Epoch 55/100\n",
      "313/313 [==============================] - 2s 7ms/step - loss: 0.6945 - accuracy: 0.4956 - val_loss: 0.6943 - val_accuracy: 0.5030\n",
      "Epoch 56/100\n",
      "313/313 [==============================] - 2s 7ms/step - loss: 0.6946 - accuracy: 0.4983 - val_loss: 0.6933 - val_accuracy: 0.4910\n",
      "Epoch 57/100\n",
      "313/313 [==============================] - 2s 7ms/step - loss: 0.6949 - accuracy: 0.4978 - val_loss: 0.6934 - val_accuracy: 0.4860\n",
      "Epoch 58/100\n",
      "313/313 [==============================] - 2s 7ms/step - loss: 0.6943 - accuracy: 0.5070 - val_loss: 0.6945 - val_accuracy: 0.4830\n",
      "Epoch 59/100\n",
      "313/313 [==============================] - 2s 7ms/step - loss: 0.6935 - accuracy: 0.5168 - val_loss: 0.6936 - val_accuracy: 0.4970\n",
      "Epoch 60/100\n",
      "313/313 [==============================] - 2s 7ms/step - loss: 0.6943 - accuracy: 0.5049 - val_loss: 0.6960 - val_accuracy: 0.5000\n",
      "Epoch 61/100\n",
      "313/313 [==============================] - 2s 7ms/step - loss: 0.6932 - accuracy: 0.5134 - val_loss: 0.6938 - val_accuracy: 0.4980\n",
      "Epoch 62/100\n",
      "313/313 [==============================] - 2s 7ms/step - loss: 0.6933 - accuracy: 0.5121 - val_loss: 0.6937 - val_accuracy: 0.5040\n",
      "Epoch 63/100\n",
      "313/313 [==============================] - 2s 7ms/step - loss: 0.6918 - accuracy: 0.5166 - val_loss: 0.6941 - val_accuracy: 0.5100\n",
      "Epoch 64/100\n",
      "313/313 [==============================] - 2s 7ms/step - loss: 0.6896 - accuracy: 0.5256 - val_loss: 0.6923 - val_accuracy: 0.5080\n",
      "Epoch 65/100\n",
      "313/313 [==============================] - 2s 7ms/step - loss: 0.6897 - accuracy: 0.5147 - val_loss: 0.6901 - val_accuracy: 0.5530\n",
      "Epoch 66/100\n",
      "313/313 [==============================] - 2s 7ms/step - loss: 0.6851 - accuracy: 0.5216 - val_loss: 0.6892 - val_accuracy: 0.5570\n",
      "Epoch 67/100\n",
      "313/313 [==============================] - 2s 7ms/step - loss: 0.6811 - accuracy: 0.5351 - val_loss: 0.6809 - val_accuracy: 0.5390\n",
      "Epoch 68/100\n",
      "313/313 [==============================] - 2s 7ms/step - loss: 0.6766 - accuracy: 0.5481 - val_loss: 0.6740 - val_accuracy: 0.5730\n",
      "Epoch 69/100\n",
      "313/313 [==============================] - 2s 7ms/step - loss: 0.6698 - accuracy: 0.5669 - val_loss: 0.6630 - val_accuracy: 0.6210\n",
      "Epoch 70/100\n",
      "313/313 [==============================] - 2s 7ms/step - loss: 0.6689 - accuracy: 0.5743 - val_loss: 0.6606 - val_accuracy: 0.6060\n",
      "Epoch 71/100\n",
      "313/313 [==============================] - 2s 7ms/step - loss: 0.6581 - accuracy: 0.6011 - val_loss: 0.6451 - val_accuracy: 0.6530\n",
      "Epoch 72/100\n",
      "313/313 [==============================] - 2s 7ms/step - loss: 0.6544 - accuracy: 0.6068 - val_loss: 0.6354 - val_accuracy: 0.6550\n",
      "Epoch 73/100\n",
      "313/313 [==============================] - 2s 7ms/step - loss: 0.6502 - accuracy: 0.6120 - val_loss: 0.6298 - val_accuracy: 0.6520\n",
      "Epoch 74/100\n",
      "313/313 [==============================] - 2s 7ms/step - loss: 0.6388 - accuracy: 0.6252 - val_loss: 0.6265 - val_accuracy: 0.6460\n",
      "Epoch 75/100\n",
      "313/313 [==============================] - 2s 7ms/step - loss: 0.6333 - accuracy: 0.6436 - val_loss: 0.6065 - val_accuracy: 0.6840\n",
      "Epoch 76/100\n",
      "313/313 [==============================] - 2s 7ms/step - loss: 0.6226 - accuracy: 0.6535 - val_loss: 0.5940 - val_accuracy: 0.6940\n",
      "Epoch 77/100\n",
      "313/313 [==============================] - 2s 7ms/step - loss: 0.6085 - accuracy: 0.6737 - val_loss: 0.5676 - val_accuracy: 0.7270\n",
      "Epoch 78/100\n",
      "313/313 [==============================] - 2s 7ms/step - loss: 0.5835 - accuracy: 0.7063 - val_loss: 0.5464 - val_accuracy: 0.7470\n",
      "Epoch 79/100\n",
      "313/313 [==============================] - 2s 7ms/step - loss: 0.5652 - accuracy: 0.7192 - val_loss: 0.5197 - val_accuracy: 0.7690\n",
      "Epoch 80/100\n",
      "313/313 [==============================] - 2s 7ms/step - loss: 0.5478 - accuracy: 0.7417 - val_loss: 0.5026 - val_accuracy: 0.7750\n",
      "Epoch 81/100\n",
      "313/313 [==============================] - 2s 7ms/step - loss: 0.5219 - accuracy: 0.7559 - val_loss: 0.4812 - val_accuracy: 0.7970\n",
      "Epoch 82/100\n",
      "313/313 [==============================] - 2s 7ms/step - loss: 0.5021 - accuracy: 0.7740 - val_loss: 0.4668 - val_accuracy: 0.7980\n",
      "Epoch 83/100\n",
      "313/313 [==============================] - 2s 7ms/step - loss: 0.4949 - accuracy: 0.7791 - val_loss: 0.4604 - val_accuracy: 0.8010\n",
      "Epoch 84/100\n",
      "313/313 [==============================] - 2s 7ms/step - loss: 0.4857 - accuracy: 0.7832 - val_loss: 0.4539 - val_accuracy: 0.8000\n",
      "Epoch 85/100\n",
      "313/313 [==============================] - 2s 7ms/step - loss: 0.4771 - accuracy: 0.7879 - val_loss: 0.4466 - val_accuracy: 0.8000\n",
      "Epoch 86/100\n",
      "313/313 [==============================] - 2s 7ms/step - loss: 0.4673 - accuracy: 0.7902 - val_loss: 0.4448 - val_accuracy: 0.7950\n",
      "Epoch 87/100\n",
      "313/313 [==============================] - 2s 7ms/step - loss: 0.4601 - accuracy: 0.7972 - val_loss: 0.4328 - val_accuracy: 0.8140\n",
      "Epoch 88/100\n",
      "313/313 [==============================] - 2s 7ms/step - loss: 0.4463 - accuracy: 0.8028 - val_loss: 0.4280 - val_accuracy: 0.8260\n",
      "Epoch 89/100\n",
      "313/313 [==============================] - 2s 7ms/step - loss: 0.4474 - accuracy: 0.8048 - val_loss: 0.4284 - val_accuracy: 0.8100\n",
      "Epoch 90/100\n",
      "313/313 [==============================] - 2s 7ms/step - loss: 0.4390 - accuracy: 0.8066 - val_loss: 0.4125 - val_accuracy: 0.8150\n",
      "Epoch 91/100\n",
      "313/313 [==============================] - 2s 7ms/step - loss: 0.4212 - accuracy: 0.8194 - val_loss: 0.4298 - val_accuracy: 0.8130\n",
      "Epoch 92/100\n",
      "313/313 [==============================] - 2s 7ms/step - loss: 0.4112 - accuracy: 0.8281 - val_loss: 0.4063 - val_accuracy: 0.8180\n",
      "Epoch 93/100\n",
      "313/313 [==============================] - 2s 7ms/step - loss: 0.4054 - accuracy: 0.8300 - val_loss: 0.4028 - val_accuracy: 0.8170\n",
      "Epoch 94/100\n",
      "313/313 [==============================] - 2s 7ms/step - loss: 0.3970 - accuracy: 0.8326 - val_loss: 0.4078 - val_accuracy: 0.8240\n",
      "Epoch 95/100\n",
      "313/313 [==============================] - 2s 7ms/step - loss: 0.3884 - accuracy: 0.8412 - val_loss: 0.3941 - val_accuracy: 0.8310\n",
      "Epoch 96/100\n",
      "313/313 [==============================] - 2s 7ms/step - loss: 0.3862 - accuracy: 0.8407 - val_loss: 0.4001 - val_accuracy: 0.8210\n",
      "Epoch 97/100\n",
      "313/313 [==============================] - 2s 7ms/step - loss: 0.3799 - accuracy: 0.8386 - val_loss: 0.3968 - val_accuracy: 0.8320\n",
      "Epoch 98/100\n",
      "313/313 [==============================] - 2s 7ms/step - loss: 0.3692 - accuracy: 0.8439 - val_loss: 0.3937 - val_accuracy: 0.8260\n",
      "Epoch 99/100\n",
      "313/313 [==============================] - 2s 7ms/step - loss: 0.3661 - accuracy: 0.8448 - val_loss: 0.3989 - val_accuracy: 0.8250\n",
      "Epoch 100/100\n",
      "313/313 [==============================] - 2s 7ms/step - loss: 0.3581 - accuracy: 0.8526 - val_loss: 0.3806 - val_accuracy: 0.8310\n"
     ]
    }
   ],
   "source": [
    "history = model.fit([inputs_train,queries_train],answers_train,batch_size=32,epochs=100,validation_data=([inputs_test,queries_test],answers_test))"
   ]
  },
  {
   "cell_type": "code",
   "execution_count": 62,
   "id": "4a4bb176",
   "metadata": {},
   "outputs": [
    {
     "name": "stdout",
     "output_type": "stream",
     "text": [
      "dict_keys(['loss', 'accuracy', 'val_loss', 'val_accuracy'])\n"
     ]
    },
    {
     "data": {
      "image/png": "[encoded data removed]",
      "text/plain": [
       "<Figure size 640x480 with 1 Axes>"
      ]
     },
     "metadata": {},
     "output_type": "display_data"
    }
   ],
   "source": [
    "import matplotlib.pyplot as plt\n",
    "%matplotlib inline\n",
    "print(history.history.keys())\n",
    "# summarize history for accuracy\n",
    "plt.plot(history.history['accuracy'])\n",
    "plt.plot(history.history['val_accuracy'])\n",
    "plt.title('model accuracy')\n",
    "plt.ylabel('accuracy')\n",
    "plt.xlabel('epoch')\n",
    "plt.legend(['train', 'test'], loc='upper left')\n",
    "plt.show()"
   ]
  },
  {
   "cell_type": "code",
   "execution_count": 63,
   "id": "b26844e9",
   "metadata": {},
   "outputs": [
    {
     "name": "stderr",
     "output_type": "stream",
     "text": [
      "C:\\Users\\Nobin\\anaconda3\\lib\\site-packages\\keras\\src\\engine\\training.py:3103: UserWarning: You are saving your model as an HDF5 file via `model.save()`. This file format is considered legacy. We recommend using instead the native Keras format, e.g. `model.save('my_model.keras')`.\n",
      "  saving_api.save_model(\n"
     ]
    }
   ],
   "source": [
    "model.save('chatbot100epochsNew.h5')"
   ]
  },
  {
   "cell_type": "code",
   "execution_count": 64,
   "id": "51d5a250",
   "metadata": {},
   "outputs": [
    {
     "name": "stdout",
     "output_type": "stream",
     "text": [
      "32/32 [==============================] - 1s 2ms/step\n"
     ]
    }
   ],
   "source": [
    "pred_results = model.predict(([inputs_test,queries_test]))"
   ]
  },
  {
   "cell_type": "code",
   "execution_count": 66,
   "id": "2e47638b",
   "metadata": {},
   "outputs": [],
   "source": [
    "# test_data[0][0]"
   ]
  },
  {
   "cell_type": "code",
   "execution_count": 67,
   "id": "ea8a1f7c",
   "metadata": {},
   "outputs": [
    {
     "data": {
      "text/plain": [
       "array([[2.55808850e-08, 2.99576719e-08, 3.22202922e-08, ...,\n",
       "        2.79498380e-02, 3.00045606e-08, 2.63284523e-08],\n",
       "       [9.58793720e-08, 1.04225265e-07, 1.20458239e-07, ...,\n",
       "        8.47876444e-02, 1.07335374e-07, 1.10126244e-07],\n",
       "       [1.16994670e-07, 1.34736496e-07, 1.33445056e-07, ...,\n",
       "        8.72869015e-01, 1.59299063e-07, 1.23110368e-07],\n",
       "       ...,\n",
       "       [9.23469301e-08, 1.62390791e-07, 1.49860426e-07, ...,\n",
       "        1.13901813e-02, 1.27132495e-07, 1.42905378e-07],\n",
       "       [1.75339892e-07, 1.81044697e-07, 1.66893926e-07, ...,\n",
       "        9.70077455e-01, 2.17561535e-07, 1.81729206e-07],\n",
       "       [1.24624057e-06, 1.25210761e-06, 1.29722537e-06, ...,\n",
       "        9.88173962e-01, 1.29229863e-06, 1.20354082e-06]], dtype=float32)"
      ]
     },
     "execution_count": 67,
     "metadata": {},
     "output_type": "execute_result"
    }
   ],
   "source": [
    "pred_results"
   ]
  },
  {
   "cell_type": "code",
   "execution_count": 68,
   "id": "6d85fb38",
   "metadata": {},
   "outputs": [
    {
     "data": {
      "text/plain": [
       "(1000, 38)"
      ]
     },
     "execution_count": 68,
     "metadata": {},
     "output_type": "execute_result"
    }
   ],
   "source": [
    "pred_results.shape"
   ]
  },
  {
   "cell_type": "code",
   "execution_count": 69,
   "id": "b21b0338",
   "metadata": {},
   "outputs": [],
   "source": [
    "val_max = np.argmax(pred_results[0])"
   ]
  },
  {
   "cell_type": "code",
   "execution_count": 70,
   "id": "a9ab4262",
   "metadata": {},
   "outputs": [],
   "source": [
    "for key,val in tokenizer.word_index.items():\n",
    "    if val == val_max:\n",
    "        k = key\n",
    "        "
   ]
  },
  {
   "cell_type": "code",
   "execution_count": 71,
   "id": "18e355de",
   "metadata": {},
   "outputs": [
    {
     "data": {
      "text/plain": [
       "'no'"
      ]
     },
     "execution_count": 71,
     "metadata": {},
     "output_type": "execute_result"
    }
   ],
   "source": [
    "k"
   ]
  },
  {
   "cell_type": "code",
   "execution_count": 72,
   "id": "0fbc2845",
   "metadata": {},
   "outputs": [
    {
     "data": {
      "text/plain": [
       "0.97204924"
      ]
     },
     "execution_count": 72,
     "metadata": {},
     "output_type": "execute_result"
    }
   ],
   "source": [
    "pred_results[0][val_max]"
   ]
  },
  {
   "cell_type": "code",
   "execution_count": 73,
   "id": "69c9a4ca",
   "metadata": {},
   "outputs": [
    {
     "data": {
      "text/plain": [
       "{'.',\n",
       " '?',\n",
       " 'Daniel',\n",
       " 'Is',\n",
       " 'John',\n",
       " 'Mary',\n",
       " 'Sandra',\n",
       " 'apple',\n",
       " 'back',\n",
       " 'bathroom',\n",
       " 'bedroom',\n",
       " 'discarded',\n",
       " 'down',\n",
       " 'dropped',\n",
       " 'football',\n",
       " 'garden',\n",
       " 'got',\n",
       " 'grabbed',\n",
       " 'hallway',\n",
       " 'in',\n",
       " 'journeyed',\n",
       " 'kitchen',\n",
       " 'left',\n",
       " 'milk',\n",
       " 'moved',\n",
       " 'no',\n",
       " 'office',\n",
       " 'picked',\n",
       " 'put',\n",
       " 'the',\n",
       " 'there',\n",
       " 'to',\n",
       " 'took',\n",
       " 'travelled',\n",
       " 'up',\n",
       " 'went',\n",
       " 'yes'}"
      ]
     },
     "execution_count": 73,
     "metadata": {},
     "output_type": "execute_result"
    }
   ],
   "source": [
    "vocab"
   ]
  },
  {
   "cell_type": "code",
   "execution_count": 78,
   "id": "dfeead7f",
   "metadata": {},
   "outputs": [],
   "source": [
    "# making my story in the same format as my trained questions and stories"
   ]
  },
  {
   "cell_type": "code",
   "execution_count": 144,
   "id": "a63bd8ae",
   "metadata": {},
   "outputs": [],
   "source": [
    "my_story = \"Daniel grabbed the apple in the garden . Mary dropped the apple . \""
   ]
  },
  {
   "cell_type": "code",
   "execution_count": 145,
   "id": "f893c7a8",
   "metadata": {},
   "outputs": [
    {
     "data": {
      "text/plain": [
       "['Daniel',\n",
       " 'grabbed',\n",
       " 'the',\n",
       " 'apple',\n",
       " 'in',\n",
       " 'the',\n",
       " 'garden',\n",
       " '.',\n",
       " 'Mary',\n",
       " 'dropped',\n",
       " 'the',\n",
       " 'apple',\n",
       " '.']"
      ]
     },
     "execution_count": 145,
     "metadata": {},
     "output_type": "execute_result"
    }
   ],
   "source": [
    "my_story.split()"
   ]
  },
  {
   "cell_type": "code",
   "execution_count": 146,
   "id": "9282a522",
   "metadata": {},
   "outputs": [],
   "source": [
    "my_question = \"Is daniel in the kitchen ? \""
   ]
  },
  {
   "cell_type": "code",
   "execution_count": 147,
   "id": "905688a2",
   "metadata": {},
   "outputs": [
    {
     "data": {
      "text/plain": [
       "['Is', 'daniel', 'in', 'the', 'kitchen', '?']"
      ]
     },
     "execution_count": 147,
     "metadata": {},
     "output_type": "execute_result"
    }
   ],
   "source": [
    "my_question.split()"
   ]
  },
  {
   "cell_type": "code",
   "execution_count": 148,
   "id": "e3ef0930",
   "metadata": {},
   "outputs": [],
   "source": [
    "mydata = [(my_story.split(),my_question.split(),'no')]"
   ]
  },
  {
   "cell_type": "code",
   "execution_count": 149,
   "id": "50c4f2d7",
   "metadata": {},
   "outputs": [
    {
     "data": {
      "text/plain": [
       "[(['Daniel',\n",
       "   'grabbed',\n",
       "   'the',\n",
       "   'apple',\n",
       "   'in',\n",
       "   'the',\n",
       "   'garden',\n",
       "   '.',\n",
       "   'Mary',\n",
       "   'dropped',\n",
       "   'the',\n",
       "   'apple',\n",
       "   '.'],\n",
       "  ['Is', 'daniel', 'in', 'the', 'kitchen', '?'],\n",
       "  'no')]"
      ]
     },
     "execution_count": 149,
     "metadata": {},
     "output_type": "execute_result"
    }
   ],
   "source": [
    "mydata"
   ]
  },
  {
   "cell_type": "code",
   "execution_count": 150,
   "id": "4a61fd83",
   "metadata": {},
   "outputs": [],
   "source": [
    "my_story,my_ques,my_ans = vectorize_stories(mydata)"
   ]
  },
  {
   "cell_type": "code",
   "execution_count": 151,
   "id": "a33b9847",
   "metadata": {},
   "outputs": [],
   "source": [
    "# my_ans"
   ]
  },
  {
   "cell_type": "code",
   "execution_count": 152,
   "id": "c7db5f2e",
   "metadata": {},
   "outputs": [
    {
     "name": "stdout",
     "output_type": "stream",
     "text": [
      "1/1 [==============================] - 0s 22ms/step\n"
     ]
    }
   ],
   "source": [
    "pred_results = model.predict(([my_story,my_ques]))"
   ]
  },
  {
   "cell_type": "code",
   "execution_count": 153,
   "id": "81a673b9",
   "metadata": {},
   "outputs": [],
   "source": [
    "val_max = np.argmax(pred_results[0])"
   ]
  },
  {
   "cell_type": "code",
   "execution_count": 154,
   "id": "d3310747",
   "metadata": {},
   "outputs": [],
   "source": [
    "for key,val in tokenizer.word_index.items():\n",
    "    if val == val_max:\n",
    "        k = key\n",
    "        "
   ]
  },
  {
   "cell_type": "code",
   "execution_count": 155,
   "id": "a45b29c8",
   "metadata": {},
   "outputs": [
    {
     "data": {
      "text/plain": [
       "'no'"
      ]
     },
     "execution_count": 155,
     "metadata": {},
     "output_type": "execute_result"
    }
   ],
   "source": [
    "k"
   ]
  },
  {
   "cell_type": "code",
   "execution_count": 156,
   "id": "9978900e",
   "metadata": {},
   "outputs": [
    {
     "data": {
      "text/plain": [
       "0.99068344"
      ]
     },
     "execution_count": 156,
     "metadata": {},
     "output_type": "execute_result"
    }
   ],
   "source": [
    "pred_results[0][val_max]"
   ]
  },
  {
   "cell_type": "code",
   "execution_count": 161,
   "id": "e4d621a4",
   "metadata": {},
   "outputs": [
    {
     "name": "stdout",
     "output_type": "stream",
     "text": [
      "1/1 [==============================] - 0s 22ms/step\n",
      "Answer:  no\n",
      "Predicted probability:  0.99068344\n"
     ]
    }
   ],
   "source": [
    "# for quick story and question\n",
    "\n",
    "my_story = \"Daniel grabbed the apple in the garden . Mary dropped the apple . \"\n",
    "my_question = \"Is daniel in the kitchen ? \"\n",
    "mydata = [(my_story.split(),my_question.split(),'no')]\n",
    "\n",
    "my_story,my_ques,my_ans = vectorize_stories(mydata)\n",
    "pred_results = model.predict(([my_story,my_ques]))\n",
    "\n",
    "val_max = np.argmax(pred_results[0])\n",
    "for key,val in tokenizer.word_index.items():\n",
    "    if val == val_max:\n",
    "        k = key\n",
    "        \n",
    "        \n",
    "print(\"Answer: \",k)\n",
    "print(\"Predicted probability: \",pred_results[0][val_max])"
   ]
  },
  {
   "cell_type": "code",
   "execution_count": null,
   "id": "d88db0be",
   "metadata": {},
   "outputs": [],
   "source": []
  }
 ],
 "metadata": {
  "kernelspec": {
   "display_name": "Python 3 (ipykernel)",
   "language": "python",
   "name": "python3"
  },
  "language_info": {
   "codemirror_mode": {
    "name": "ipython",
    "version": 3
   },
   "file_extension": ".py",
   "mimetype": "text/x-python",
   "name": "python",
   "nbconvert_exporter": "python",
   "pygments_lexer": "ipython3",
   "version": "3.10.9"
  }
 },
 "nbformat": 4,
 "nbformat_minor": 5
}
